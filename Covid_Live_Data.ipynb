{
  "nbformat": 4,
  "nbformat_minor": 0,
  "metadata": {
    "colab": {
      "name": "Covid-Live-Data.ipynb",
      "provenance": [],
      "authorship_tag": "ABX9TyMHLvdNUvt5m+Ulhn5yUn7B"
    },
    "kernelspec": {
      "name": "python3",
      "display_name": "Python 3"
    },
    "language_info": {
      "name": "python"
    }
  },
  "cells": [
    {
      "cell_type": "markdown",
      "source": [
        "# Context\n",
        "\n",
        "Since it first began, covid-19 has taken over the world. Not only has it dramatically affected global health, but also social, economic, and cultural norms across the world. Its rippling shockwaves continue to be felt to this day. This data exploration will take a deeper look at the cases over the last few years. \n",
        "\n",
        "In this data exploration, I use the live WHO data at this link here:\n",
        "\n",
        "https://covid19.who.int/data"
      ],
      "metadata": {
        "id": "QQBwQ7O1ZYdu"
      }
    },
    {
      "cell_type": "code",
      "execution_count": 2,
      "metadata": {
        "id": "B_iXT2tNYoZi"
      },
      "outputs": [],
      "source": [
        "import pandas as pd\n",
        "import numpy as np\n",
        "import requests\n",
        "import tensorflow as tf\n",
        "from tensorflow import keras\n",
        "from tensorflow.keras import layers"
      ]
    },
    {
      "cell_type": "code",
      "source": [],
      "metadata": {
        "id": "qhu_F-eGbTkN"
      },
      "execution_count": null,
      "outputs": []
    }
  ]
}